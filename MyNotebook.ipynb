{
 "cells": [
  {
   "cell_type": "code",
   "execution_count": null,
   "id": "12345678-1234-5678-1234-567812345678",
   "metadata": {},
   "outputs": [],
   "source": [
    "print('Hello Binder!')"
   ]
  }
 ],
 "metadata": {
  "kernelspec": {
   "display_name": "Python 3",
   "language": "python",
   "name": "python3"
  },
  "language_info": {
   "name": "python"
  }
 },
 "nbformat": 4,
 "nbformat_minor": 5
}
