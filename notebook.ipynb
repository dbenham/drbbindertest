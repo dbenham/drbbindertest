{
 "cells": [
  {
   "cell_type": "code",
   "execution_count": 1,
   "id": "12345678-1234-5678-1234-567812345678",
   "metadata": {},
   "outputs": [
    {
     "name": "stdout",
     "output_type": "stream",
     "text": [
      "Hello Dave. Love, Binder!\n"
     ]
    }
   ],
   "source": [
    "print('Hello Dave. Love, Binder!')"
   ]
  },
  {
   "cell_type": "code",
   "execution_count": 2,
   "id": "14f17fb3-e4d5-4fd9-ab06-072a16fad69c",
   "metadata": {},
   "outputs": [],
   "source": [
    "# Install required packages inside the Jupyter Notebook\n",
    "!pip install matplotlib ipywidgets --quiet\n",
    "\n",
    "# Enable ipywidgets extension (may be necessary in some environments)\n",
    "%reload_ext ipywidgets\n"
   ]
  },
  {
   "cell_type": "code",
   "execution_count": null,
   "id": "f1c9b5b6-0c36-4696-92b2-697ef76ca360",
   "metadata": {},
   "outputs": [],
   "source": [
    "# Bouncing Ball Simulation\n",
    "import matplotlib.pyplot as plt\n",
    "import numpy as np\n",
    "from ipywidgets import interact, FloatSlider\n",
    "from IPython.display import clear_output\n",
    "\n",
    "def bounce_simulation(gravity=9.8, bounce=0.8):\n",
    "    dt = 0.05\n",
    "    t_max = 5\n",
    "    t = np.arange(0, t_max, dt)\n",
    "    y = []\n",
    "    v = 0\n",
    "    h = 1  # initial height\n",
    "    for _ in t:\n",
    "        v -= gravity * dt\n",
    "        h += v * dt\n",
    "        if h < 0:\n",
    "            h = 0\n",
    "            v = -v * bounce\n",
    "        y.append(h)\n",
    "\n",
    "    plt.figure(figsize=(10, 4))\n",
    "    plt.plot(t, y, lw=2)\n",
    "    plt.title(\"Bouncing Ball Simulation\")\n",
    "    plt.xlabel(\"Time (s)\")\n",
    "    plt.ylabel(\"Height (m)\")\n",
    "    plt.ylim(0, 2)\n",
    "    plt.grid(True)\n",
    "    plt.show()\n",
    "\n",
    "interact(bounce_simulation, \n",
    "         gravity=FloatSlider(min=1, max=20, step=0.1, value=9.8),\n",
    "         bounce=FloatSlider(min=0, max=1, step=0.05, value=0.8))\n"
   ]
  },
  {
   "cell_type": "code",
   "execution_count": null,
   "id": "662408f3-c29b-482a-9453-85f92492603b",
   "metadata": {},
   "outputs": [],
   "source": []
  }
 ],
 "metadata": {
  "kernelspec": {
   "display_name": "Python 3 (ipykernel)",
   "language": "python",
   "name": "python3"
  },
  "language_info": {
   "codemirror_mode": {
    "name": "ipython",
    "version": 3
   },
   "file_extension": ".py",
   "mimetype": "text/x-python",
   "name": "python",
   "nbconvert_exporter": "python",
   "pygments_lexer": "ipython3",
   "version": "3.11.6"
  }
 },
 "nbformat": 4,
 "nbformat_minor": 5
}
